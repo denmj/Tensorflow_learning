{
  "nbformat": 4,
  "nbformat_minor": 0,
  "metadata": {
    "colab": {
      "name": "RNN.ipynb",
      "provenance": [],
      "collapsed_sections": [],
      "authorship_tag": "ABX9TyMZsM78r6GfBWoT+7IoKmUk",
      "include_colab_link": true
    },
    "kernelspec": {
      "name": "python3",
      "display_name": "Python 3"
    }
  },
  "cells": [
    {
      "cell_type": "markdown",
      "metadata": {
        "id": "view-in-github",
        "colab_type": "text"
      },
      "source": [
        "<a href=\"https://colab.research.google.com/github/denmj/Tensorflow_learning/blob/master/RNN.ipynb\" target=\"_parent\"><img src=\"https://colab.research.google.com/assets/colab-badge.svg\" alt=\"Open In Colab\"/></a>"
      ]
    },
    {
      "cell_type": "code",
      "metadata": {
        "id": "YF9sHKb3zfeU",
        "colab_type": "code",
        "colab": {
          "base_uri": "https://localhost:8080/",
          "height": 80
        },
        "outputId": "b32eeae8-3e0e-42ed-a807-1f7f64d376fb"
      },
      "source": [
        "import tensorflow as tf\n",
        "import matplotlib.pyplot as plt \n",
        "import numpy as np"
      ],
      "execution_count": 1,
      "outputs": [
        {
          "output_type": "display_data",
          "data": {
            "text/html": [
              "<p style=\"color: red;\">\n",
              "The default version of TensorFlow in Colab will soon switch to TensorFlow 2.x.<br>\n",
              "We recommend you <a href=\"https://www.tensorflow.org/guide/migrate\" target=\"_blank\">upgrade</a> now \n",
              "or ensure your notebook will continue to use TensorFlow 1.x via the <code>%tensorflow_version 1.x</code> magic:\n",
              "<a href=\"https://colab.research.google.com/notebooks/tensorflow_version.ipynb\" target=\"_blank\">more info</a>.</p>\n"
            ],
            "text/plain": [
              "<IPython.core.display.HTML object>"
            ]
          },
          "metadata": {
            "tags": []
          }
        }
      ]
    },
    {
      "cell_type": "code",
      "metadata": {
        "id": "n2dRnKX9RMdx",
        "colab_type": "code",
        "colab": {}
      },
      "source": [
        "def shuffle_batch(X, y, batch_size):\n",
        "    rnd_idx = np.random.permutation(len(X))\n",
        "    n_batches = len(X) // batch_size\n",
        "    for batch_idx in np.array_split(rnd_idx, n_batches):\n",
        "        X_batch, y_batch = X[batch_idx], y[batch_idx]\n",
        "        yield X_batch, y_batch\n",
        "\n",
        "def reset_graph(seed=42):\n",
        "    tf.reset_default_graph()\n",
        "    tf.set_random_seed(seed)\n",
        "    np.random.seed(seed)"
      ],
      "execution_count": 0,
      "outputs": []
    },
    {
      "cell_type": "code",
      "metadata": {
        "id": "rex7T4fdRTKW",
        "colab_type": "code",
        "colab": {}
      },
      "source": [
        "reset_graph()"
      ],
      "execution_count": 0,
      "outputs": []
    },
    {
      "cell_type": "code",
      "metadata": {
        "id": "LKZy1Pa22VsU",
        "colab_type": "code",
        "colab": {}
      },
      "source": [
        "# Manual RNN"
      ],
      "execution_count": 0,
      "outputs": []
    },
    {
      "cell_type": "code",
      "metadata": {
        "id": "05ef8OMsRYsY",
        "colab_type": "code",
        "colab": {}
      },
      "source": [
        "n_inputs = 3 \n",
        "n_neurons = 5"
      ],
      "execution_count": 0,
      "outputs": []
    },
    {
      "cell_type": "code",
      "metadata": {
        "id": "f9cFp_VhReSM",
        "colab_type": "code",
        "colab": {}
      },
      "source": [
        "X0 = tf.placeholder(tf.float32, [None, n_inputs])\n",
        "X1 = tf.placeholder(tf.float32, [None, n_inputs])"
      ],
      "execution_count": 0,
      "outputs": []
    },
    {
      "cell_type": "code",
      "metadata": {
        "id": "CkvEcTZ7SkOo",
        "colab_type": "code",
        "colab": {}
      },
      "source": [
        "Wx = tf.Variable(tf.random_normal(shape=[n_inputs, n_neurons],dtype=tf.float32))\n",
        "Wy = tf.Variable(tf.random_normal(shape=[n_neurons,n_neurons],dtype=tf.float32))\n",
        "b = tf.Variable(tf.zeros([1, n_neurons], dtype=tf.float32))\n"
      ],
      "execution_count": 0,
      "outputs": []
    },
    {
      "cell_type": "code",
      "metadata": {
        "id": "1elAfT-pS8vw",
        "colab_type": "code",
        "colab": {}
      },
      "source": [
        "Y0 = tf.tanh(tf.matmul(X0, Wx) + b)\n",
        "Y1 = tf.tanh(tf.matmul(Y0, Wy) + tf.matmul(X1, Wx) + b)\n",
        "\n",
        "init = tf.global_variables_initializer()"
      ],
      "execution_count": 0,
      "outputs": []
    },
    {
      "cell_type": "code",
      "metadata": {
        "id": "Y51hWEuvTmpI",
        "colab_type": "code",
        "colab": {}
      },
      "source": [
        "X0_batch = np.array([[0, 1, 2], [3, 4, 5], [6, 7, 8], [9, 0, 1]]) # t = 0\n",
        "X1_batch = np.array([[9, 8, 7], [0, 0, 0], [6, 5, 4], [3, 2, 1]]) # t = 1"
      ],
      "execution_count": 0,
      "outputs": []
    },
    {
      "cell_type": "code",
      "metadata": {
        "id": "jAjPodRfTupi",
        "colab_type": "code",
        "outputId": "6577a956-70a2-4944-ee76-8d395d30c64e",
        "colab": {
          "base_uri": "https://localhost:8080/",
          "height": 34
        }
      },
      "source": [
        "X0_batch.shape"
      ],
      "execution_count": 10,
      "outputs": [
        {
          "output_type": "execute_result",
          "data": {
            "text/plain": [
              "(4, 3)"
            ]
          },
          "metadata": {
            "tags": []
          },
          "execution_count": 10
        }
      ]
    },
    {
      "cell_type": "code",
      "metadata": {
        "id": "rUsqeAMOe1mx",
        "colab_type": "code",
        "colab": {}
      },
      "source": [
        "with tf.Session() as sess: \n",
        "  init.run()\n",
        "  Y0_val, Y1_val = sess.run([Y0, Y1], feed_dict={X0: X0_batch, X1: X1_batch})"
      ],
      "execution_count": 0,
      "outputs": []
    },
    {
      "cell_type": "code",
      "metadata": {
        "id": "jAto7JwIfOkS",
        "colab_type": "code",
        "colab": {}
      },
      "source": [
        ""
      ],
      "execution_count": 0,
      "outputs": []
    },
    {
      "cell_type": "code",
      "metadata": {
        "id": "PZdZLc5V1VCO",
        "colab_type": "code",
        "colab": {}
      },
      "source": [
        ""
      ],
      "execution_count": 0,
      "outputs": []
    },
    {
      "cell_type": "code",
      "metadata": {
        "id": "_IBh1qyl1X_6",
        "colab_type": "code",
        "colab": {}
      },
      "source": [
        "#TF API RNN "
      ],
      "execution_count": 0,
      "outputs": []
    },
    {
      "cell_type": "code",
      "metadata": {
        "id": "bD00Yu6M1iTX",
        "colab_type": "code",
        "colab": {}
      },
      "source": [
        "reset_graph()"
      ],
      "execution_count": 0,
      "outputs": []
    },
    {
      "cell_type": "code",
      "metadata": {
        "id": "cP4vMxml5z91",
        "colab_type": "code",
        "colab": {}
      },
      "source": [
        "n_steps = 28 \n",
        "n_inputs = 28\n",
        "n_neurons = 150 \n",
        "n_outputs = 10\n",
        "learning_rate = 0.001"
      ],
      "execution_count": 0,
      "outputs": []
    },
    {
      "cell_type": "code",
      "metadata": {
        "id": "OubbarqC57i9",
        "colab_type": "code",
        "colab": {}
      },
      "source": [
        "X = tf.placeholder(tf.float32, shape=[None, n_steps, n_inputs])\n",
        "y = tf.placeholder(tf.int32, shape=[None])"
      ],
      "execution_count": 0,
      "outputs": []
    },
    {
      "cell_type": "code",
      "metadata": {
        "id": "ejgmd-f_6VHT",
        "colab_type": "code",
        "colab": {
          "base_uri": "https://localhost:8080/",
          "height": 139
        },
        "outputId": "dc205c68-951c-49ae-d2b6-ff9726a22431"
      },
      "source": [
        "basic_cell = tf.nn.rnn_cell.BasicRNNCell(num_units=n_neurons)\n",
        "outputs, states = tf.nn.dynamic_rnn(basic_cell, X, dtype=tf.float32)\n",
        "\n",
        "logits = tf.layers.dense(states, n_outputs)\n",
        "xentropy = tf.nn.sparse_softmax_cross_entropy_with_logits(labels=y,\n",
        "                                                          logits=logits)\n",
        "loss = tf.reduce_mean(xentropy)\n",
        "optimizer = tf.train.AdamOptimizer(learning_rate=learning_rate)\n",
        "training_op = optimizer.minimize(loss)\n",
        "correct = tf.nn.in_top_k(logits, y, 1)\n",
        "accuracy = tf.reduce_mean(tf.cast(correct, tf.float32))\n",
        "\n",
        "init = tf.global_variables_initializer()"
      ],
      "execution_count": 19,
      "outputs": [
        {
          "output_type": "stream",
          "text": [
            "WARNING:tensorflow:From <ipython-input-19-516b8f10c735>:4: dense (from tensorflow.python.layers.core) is deprecated and will be removed in a future version.\n",
            "Instructions for updating:\n",
            "Use keras.layers.Dense instead.\n",
            "WARNING:tensorflow:From /usr/local/lib/python3.6/dist-packages/tensorflow_core/python/layers/core.py:187: Layer.apply (from tensorflow.python.keras.engine.base_layer) is deprecated and will be removed in a future version.\n",
            "Instructions for updating:\n",
            "Please use `layer.__call__` method instead.\n"
          ],
          "name": "stdout"
        }
      ]
    },
    {
      "cell_type": "code",
      "metadata": {
        "id": "1ae_jNitLa8V",
        "colab_type": "code",
        "colab": {
          "base_uri": "https://localhost:8080/",
          "height": 51
        },
        "outputId": "77174d59-d70a-448a-e4a2-e103f2f61cdc"
      },
      "source": [
        "(X_train, y_train), (X_test, y_test) = tf.keras.datasets.mnist.load_data()\n",
        "X_train = X_train.astype(np.float32).reshape(-1, 28*28) / 255.0\n",
        "X_test = X_test.astype(np.float32).reshape(-1, 28*28) / 255.0\n",
        "y_train = y_train.astype(np.int32)\n",
        "y_test = y_test.astype(np.int32)\n",
        "X_valid, X_train = X_train[:5000], X_train[5000:]\n",
        "y_valid, y_train = y_train[:5000], y_train[5000:]"
      ],
      "execution_count": 21,
      "outputs": [
        {
          "output_type": "stream",
          "text": [
            "Downloading data from https://storage.googleapis.com/tensorflow/tf-keras-datasets/mnist.npz\n",
            "11493376/11490434 [==============================] - 0s 0us/step\n"
          ],
          "name": "stdout"
        }
      ]
    },
    {
      "cell_type": "code",
      "metadata": {
        "id": "6RJ_0_MxLo9-",
        "colab_type": "code",
        "colab": {}
      },
      "source": [
        "X_test = X_test.reshape((-1, n_steps, n_inputs))\n"
      ],
      "execution_count": 0,
      "outputs": []
    },
    {
      "cell_type": "code",
      "metadata": {
        "id": "3Rg-s0EiLu3U",
        "colab_type": "code",
        "colab": {
          "base_uri": "https://localhost:8080/",
          "height": 663
        },
        "outputId": "53d733db-be4e-4915-b1c2-a19e502e5645"
      },
      "source": [
        "n_epochs = 100\n",
        "batch_size = 150\n",
        "\n",
        "with tf.Session() as sess:\n",
        "    init.run()\n",
        "    for epoch in range(n_epochs):\n",
        "        for X_batch, y_batch in shuffle_batch(X_train, y_train, batch_size):\n",
        "            X_batch = X_batch.reshape((-1, n_steps, n_inputs))\n",
        "            sess.run(training_op, feed_dict={X: X_batch, y: y_batch})\n",
        "        acc_batch = accuracy.eval(feed_dict={X: X_batch, y: y_batch})\n",
        "        acc_test = accuracy.eval(feed_dict={X: X_test, y: y_test})\n",
        "        print(epoch, \"Last batch accuracy:\", acc_batch, \"Test accuracy:\", acc_test)"
      ],
      "execution_count": 0,
      "outputs": [
        {
          "output_type": "stream",
          "text": [
            "0 Last batch accuracy: 0.9533333 Test accuracy: 0.9288\n",
            "1 Last batch accuracy: 0.96 Test accuracy: 0.9471\n",
            "2 Last batch accuracy: 0.96 Test accuracy: 0.9495\n",
            "3 Last batch accuracy: 0.96666664 Test accuracy: 0.9607\n",
            "4 Last batch accuracy: 0.97333336 Test accuracy: 0.9653\n",
            "5 Last batch accuracy: 0.9066667 Test accuracy: 0.963\n",
            "6 Last batch accuracy: 0.98 Test accuracy: 0.9584\n",
            "7 Last batch accuracy: 0.96666664 Test accuracy: 0.9648\n",
            "8 Last batch accuracy: 0.9866667 Test accuracy: 0.9703\n",
            "9 Last batch accuracy: 0.99333334 Test accuracy: 0.9724\n",
            "10 Last batch accuracy: 0.98 Test accuracy: 0.9735\n",
            "11 Last batch accuracy: 0.98 Test accuracy: 0.9754\n",
            "12 Last batch accuracy: 0.96 Test accuracy: 0.9746\n",
            "13 Last batch accuracy: 0.9866667 Test accuracy: 0.9756\n",
            "14 Last batch accuracy: 0.97333336 Test accuracy: 0.973\n",
            "15 Last batch accuracy: 0.97333336 Test accuracy: 0.9768\n",
            "16 Last batch accuracy: 0.99333334 Test accuracy: 0.9773\n",
            "17 Last batch accuracy: 0.98 Test accuracy: 0.9752\n",
            "18 Last batch accuracy: 0.99333334 Test accuracy: 0.9786\n",
            "19 Last batch accuracy: 0.98 Test accuracy: 0.9751\n",
            "20 Last batch accuracy: 0.99333334 Test accuracy: 0.9761\n",
            "21 Last batch accuracy: 0.98 Test accuracy: 0.9763\n",
            "22 Last batch accuracy: 0.97333336 Test accuracy: 0.9698\n",
            "23 Last batch accuracy: 0.98 Test accuracy: 0.9792\n",
            "24 Last batch accuracy: 0.98 Test accuracy: 0.9748\n",
            "25 Last batch accuracy: 0.99333334 Test accuracy: 0.9746\n",
            "26 Last batch accuracy: 0.97333336 Test accuracy: 0.9788\n",
            "27 Last batch accuracy: 1.0 Test accuracy: 0.976\n",
            "28 Last batch accuracy: 0.97333336 Test accuracy: 0.9765\n",
            "29 Last batch accuracy: 0.9866667 Test accuracy: 0.9767\n",
            "30 Last batch accuracy: 1.0 Test accuracy: 0.9794\n",
            "31 Last batch accuracy: 0.97333336 Test accuracy: 0.9763\n",
            "32 Last batch accuracy: 0.98 Test accuracy: 0.9799\n",
            "33 Last batch accuracy: 0.96666664 Test accuracy: 0.9741\n",
            "34 Last batch accuracy: 0.9866667 Test accuracy: 0.9761\n",
            "35 Last batch accuracy: 0.9866667 Test accuracy: 0.9784\n",
            "36 Last batch accuracy: 0.9866667 Test accuracy: 0.9769\n",
            "37 Last batch accuracy: 0.99333334 Test accuracy: 0.9772\n"
          ],
          "name": "stdout"
        }
      ]
    },
    {
      "cell_type": "code",
      "metadata": {
        "id": "-XlHO8x1LxHL",
        "colab_type": "code",
        "colab": {}
      },
      "source": [
        ""
      ],
      "execution_count": 0,
      "outputs": []
    }
  ]
}