{
  "nbformat": 4,
  "nbformat_minor": 0,
  "metadata": {
    "colab": {
      "name": "ML_linreg.ipynb",
      "provenance": [],
      "authorship_tag": "ABX9TyP/netQXSF9UuDREmM1QaUX",
      "include_colab_link": true
    },
    "kernelspec": {
      "name": "python3",
      "display_name": "Python 3"
    }
  },
  "cells": [
    {
      "cell_type": "markdown",
      "metadata": {
        "id": "view-in-github",
        "colab_type": "text"
      },
      "source": [
        "<a href=\"https://colab.research.google.com/github/denmj/Tensorflow_learning/blob/master/ML_linreg.ipynb\" target=\"_parent\"><img src=\"https://colab.research.google.com/assets/colab-badge.svg\" alt=\"Open In Colab\"/></a>"
      ]
    },
    {
      "cell_type": "code",
      "metadata": {
        "id": "G_TPn0_0zEvi",
        "colab_type": "code",
        "colab": {}
      },
      "source": [
        "import matplotlib.pyplot as plt\n",
        "import numpy as np \n",
        "import pandas as pd \n",
        "from sklearn.datasets import fetch_california_housing\n",
        "\n",
        "from sklearn.pipeline import Pipeline\n",
        "\n",
        "#Pre processing \n",
        "from sklearn.model_selection import train_test_split\n",
        "from sklearn.preprocessing import StandardScaler\n",
        "from sklearn.model_selection import GridSearchCV\n",
        "\n"
      ],
      "execution_count": 0,
      "outputs": []
    },
    {
      "cell_type": "code",
      "metadata": {
        "id": "FcQ4BVK3AO3F",
        "colab_type": "code",
        "colab": {}
      },
      "source": [
        "def missing_zero_values_table(df):\n",
        "    zero_val = (df == 0.00).astype(int).sum(axis=0)\n",
        "    mis_val = df.isnull().sum()\n",
        "    mis_val_percent = 100 * df.isnull().sum() / len(df)\n",
        "    mz_table = pd.concat([zero_val, mis_val, mis_val_percent], axis=1)\n",
        "    mz_table = mz_table.rename(\n",
        "        columns={0: 'Zero Values', 1: 'Missing Values', 2: '% of Total Values'})\n",
        "    mz_table['Total Zero Missing Values'] = mz_table['Zero Values'] + mz_table['Missing Values']\n",
        "    mz_table['% Total Zero Missing Values'] = 100 * mz_table['Total Zero Missing Values'] / len(df)\n",
        "    mz_table['Data Type'] = df.dtypes\n",
        "    mz_table = mz_table[\n",
        "        mz_table.iloc[:, 1] != 0].sort_values(\n",
        "        '% of Total Values', ascending=False).round(1)\n",
        "    print(\"Your selected dataframe has \" + str(df.shape[1]) + \" columns and \" + str(df.shape[0]) + \" Rows.\\n\"\n",
        "                                                                                                   \"There are \" + str(\n",
        "        mz_table.shape[0]) +\n",
        "          \" columns that have missing values.\")\n",
        "    #         mz_table.to_excel('D:/sampledata/missing_and_zero_values.xlsx', freeze_panes=(1,0), index = False)\n",
        "    return mz_table"
      ],
      "execution_count": 0,
      "outputs": []
    },
    {
      "cell_type": "code",
      "metadata": {
        "id": "RWs37VNbzNY4",
        "colab_type": "code",
        "outputId": "1f080e34-6904-45c2-8150-61a4eaae0b96",
        "colab": {
          "base_uri": "https://localhost:8080/",
          "height": 34
        }
      },
      "source": [
        "data = fetch_california_housing()"
      ],
      "execution_count": 3,
      "outputs": [
        {
          "output_type": "stream",
          "text": [
            "Downloading Cal. housing from https://ndownloader.figshare.com/files/5976036 to /root/scikit_learn_data\n"
          ],
          "name": "stderr"
        }
      ]
    },
    {
      "cell_type": "code",
      "metadata": {
        "id": "1AoN8Ge3-ZAD",
        "colab_type": "code",
        "colab": {}
      },
      "source": [
        "X = pd.DataFrame(data=data.data, columns=data.feature_names)\n",
        "y = data.target\n"
      ],
      "execution_count": 0,
      "outputs": []
    },
    {
      "cell_type": "code",
      "metadata": {
        "id": "3-DQIu5ytbEj",
        "colab_type": "code",
        "colab": {
          "base_uri": "https://localhost:8080/",
          "height": 204
        },
        "outputId": "e3b34d44-c248-4c7f-b294-c4a71e2a9622"
      },
      "source": [
        "X.head()"
      ],
      "execution_count": 5,
      "outputs": [
        {
          "output_type": "execute_result",
          "data": {
            "text/html": [
              "<div>\n",
              "<style scoped>\n",
              "    .dataframe tbody tr th:only-of-type {\n",
              "        vertical-align: middle;\n",
              "    }\n",
              "\n",
              "    .dataframe tbody tr th {\n",
              "        vertical-align: top;\n",
              "    }\n",
              "\n",
              "    .dataframe thead th {\n",
              "        text-align: right;\n",
              "    }\n",
              "</style>\n",
              "<table border=\"1\" class=\"dataframe\">\n",
              "  <thead>\n",
              "    <tr style=\"text-align: right;\">\n",
              "      <th></th>\n",
              "      <th>MedInc</th>\n",
              "      <th>HouseAge</th>\n",
              "      <th>AveRooms</th>\n",
              "      <th>AveBedrms</th>\n",
              "      <th>Population</th>\n",
              "      <th>AveOccup</th>\n",
              "      <th>Latitude</th>\n",
              "      <th>Longitude</th>\n",
              "    </tr>\n",
              "  </thead>\n",
              "  <tbody>\n",
              "    <tr>\n",
              "      <th>0</th>\n",
              "      <td>8.3252</td>\n",
              "      <td>41.0</td>\n",
              "      <td>6.984127</td>\n",
              "      <td>1.023810</td>\n",
              "      <td>322.0</td>\n",
              "      <td>2.555556</td>\n",
              "      <td>37.88</td>\n",
              "      <td>-122.23</td>\n",
              "    </tr>\n",
              "    <tr>\n",
              "      <th>1</th>\n",
              "      <td>8.3014</td>\n",
              "      <td>21.0</td>\n",
              "      <td>6.238137</td>\n",
              "      <td>0.971880</td>\n",
              "      <td>2401.0</td>\n",
              "      <td>2.109842</td>\n",
              "      <td>37.86</td>\n",
              "      <td>-122.22</td>\n",
              "    </tr>\n",
              "    <tr>\n",
              "      <th>2</th>\n",
              "      <td>7.2574</td>\n",
              "      <td>52.0</td>\n",
              "      <td>8.288136</td>\n",
              "      <td>1.073446</td>\n",
              "      <td>496.0</td>\n",
              "      <td>2.802260</td>\n",
              "      <td>37.85</td>\n",
              "      <td>-122.24</td>\n",
              "    </tr>\n",
              "    <tr>\n",
              "      <th>3</th>\n",
              "      <td>5.6431</td>\n",
              "      <td>52.0</td>\n",
              "      <td>5.817352</td>\n",
              "      <td>1.073059</td>\n",
              "      <td>558.0</td>\n",
              "      <td>2.547945</td>\n",
              "      <td>37.85</td>\n",
              "      <td>-122.25</td>\n",
              "    </tr>\n",
              "    <tr>\n",
              "      <th>4</th>\n",
              "      <td>3.8462</td>\n",
              "      <td>52.0</td>\n",
              "      <td>6.281853</td>\n",
              "      <td>1.081081</td>\n",
              "      <td>565.0</td>\n",
              "      <td>2.181467</td>\n",
              "      <td>37.85</td>\n",
              "      <td>-122.25</td>\n",
              "    </tr>\n",
              "  </tbody>\n",
              "</table>\n",
              "</div>"
            ],
            "text/plain": [
              "   MedInc  HouseAge  AveRooms  ...  AveOccup  Latitude  Longitude\n",
              "0  8.3252      41.0  6.984127  ...  2.555556     37.88    -122.23\n",
              "1  8.3014      21.0  6.238137  ...  2.109842     37.86    -122.22\n",
              "2  7.2574      52.0  8.288136  ...  2.802260     37.85    -122.24\n",
              "3  5.6431      52.0  5.817352  ...  2.547945     37.85    -122.25\n",
              "4  3.8462      52.0  6.281853  ...  2.181467     37.85    -122.25\n",
              "\n",
              "[5 rows x 8 columns]"
            ]
          },
          "metadata": {
            "tags": []
          },
          "execution_count": 5
        }
      ]
    },
    {
      "cell_type": "code",
      "metadata": {
        "id": "AK2BlKktjgN1",
        "colab_type": "code",
        "colab": {}
      },
      "source": [
        "  pline = Pipeline([('std_scaler', StandardScaler())])\n",
        "  X_scaled = pline.fit_transform(X)"
      ],
      "execution_count": 0,
      "outputs": []
    },
    {
      "cell_type": "code",
      "metadata": {
        "id": "_5kyeowr-a1t",
        "colab_type": "code",
        "colab": {}
      },
      "source": [
        "X_train, X_val, y_train, y_val = train_test_split(X_scaled, y, test_size=0.3, random_state=44)"
      ],
      "execution_count": 0,
      "outputs": []
    },
    {
      "cell_type": "code",
      "metadata": {
        "id": "4U4Lg1sS-ueG",
        "colab_type": "code",
        "colab": {}
      },
      "source": [
        ""
      ],
      "execution_count": 0,
      "outputs": []
    },
    {
      "cell_type": "code",
      "metadata": {
        "id": "8bUkpn1V_Rvy",
        "colab_type": "code",
        "colab": {}
      },
      "source": [
        "from sklearn.metrics import mean_squared_log_error\n",
        "from sklearn.metrics import mean_squared_error\n",
        "\n",
        "from sklearn.model_selection import cross_val_score\n",
        "from sklearn.model_selection import cross_validate\n",
        "from sklearn.model_selection import train_test_split\n",
        "from sklearn.model_selection import GridSearchCV\n",
        "\n",
        "from sklearn.linear_model import LinearRegression\n",
        "from sklearn.tree import DecisionTreeRegressor\n",
        "from sklearn.linear_model import Ridge\n",
        "from sklearn.linear_model import Lasso\n",
        "from sklearn.linear_model import SGDRegressor\n",
        "from sklearn.ensemble import RandomForestRegressor\n",
        "from sklearn.svm import SVR\n"
      ],
      "execution_count": 0,
      "outputs": []
    },
    {
      "cell_type": "code",
      "metadata": {
        "id": "MQ8QCC5bATFT",
        "colab_type": "code",
        "colab": {}
      },
      "source": [
        "lin_reg = LinearRegression()\n",
        "tree_reg = DecisionTreeRegressor()\n",
        "ridge_reg = Ridge()\n",
        "lasso_reg  = Lasso()\n",
        "sgd_reg = SGDRegressor(max_iter=10000)\n",
        "svr = SVR()\n",
        "rnd_frst = RandomForestRegressor()"
      ],
      "execution_count": 0,
      "outputs": []
    },
    {
      "cell_type": "code",
      "metadata": {
        "id": "wSn28bh1o1v_",
        "colab_type": "code",
        "colab": {
          "base_uri": "https://localhost:8080/",
          "height": 34
        },
        "outputId": "aef2dcdc-adfb-48a4-aea3-07394aa4c55c"
      },
      "source": [
        "print(\"X_train size: {}, y_train size: {}, X_val size: {}, y_val size: {}\".format(X_train.shape, y_train.shape, X_val.shape, y_val.shape))"
      ],
      "execution_count": 29,
      "outputs": [
        {
          "output_type": "stream",
          "text": [
            "X_train size: (14448, 8), y_train size: (14448,), X_val size: (6192, 8), y_val size: (6192,)\n"
          ],
          "name": "stdout"
        }
      ]
    },
    {
      "cell_type": "code",
      "metadata": {
        "id": "m1AYNbK7o2cu",
        "colab_type": "code",
        "colab": {
          "base_uri": "https://localhost:8080/",
          "height": 136
        },
        "outputId": "63d91838-38e8-4ce6-f051-f17bff3048c8"
      },
      "source": [
        "lin_reg.fit(X_train, y_train)\n",
        "tree_reg.fit(X_train, y_train)\n",
        "ridge_reg.fit(X_train, y_train)\n",
        "lasso_reg.fit(X_train, y_train)\n",
        "sgd_reg.fit(X_train, y_train)\n",
        "svr.fit(X_train, y_train)\n",
        "rnd_frst.fit(X_train, y_train)"
      ],
      "execution_count": 30,
      "outputs": [
        {
          "output_type": "execute_result",
          "data": {
            "text/plain": [
              "RandomForestRegressor(bootstrap=True, ccp_alpha=0.0, criterion='mse',\n",
              "                      max_depth=None, max_features='auto', max_leaf_nodes=None,\n",
              "                      max_samples=None, min_impurity_decrease=0.0,\n",
              "                      min_impurity_split=None, min_samples_leaf=1,\n",
              "                      min_samples_split=2, min_weight_fraction_leaf=0.0,\n",
              "                      n_estimators=100, n_jobs=None, oob_score=False,\n",
              "                      random_state=None, verbose=0, warm_start=False)"
            ]
          },
          "metadata": {
            "tags": []
          },
          "execution_count": 30
        }
      ]
    },
    {
      "cell_type": "code",
      "metadata": {
        "id": "TMqeAe9WqmKd",
        "colab_type": "code",
        "colab": {}
      },
      "source": [
        "from sklearn.metrics import mean_squared_error"
      ],
      "execution_count": 0,
      "outputs": []
    },
    {
      "cell_type": "code",
      "metadata": {
        "id": "p_H3xZwCqmTw",
        "colab_type": "code",
        "colab": {}
      },
      "source": [
        "linreg_pred = lin_reg.predict(X_train)"
      ],
      "execution_count": 0,
      "outputs": []
    },
    {
      "cell_type": "code",
      "metadata": {
        "id": "3PC_E8nWqmcA",
        "colab_type": "code",
        "colab": {
          "base_uri": "https://localhost:8080/",
          "height": 34
        },
        "outputId": "7fba12c6-b778-4e88-f35a-a1956b761ea4"
      },
      "source": [
        "lin_mse = mean_squared_error(y_train, linreg_pred)\n",
        "lin_rmse = np.sqrt(lin_mse)\n",
        "lin_rmse"
      ],
      "execution_count": 24,
      "outputs": [
        {
          "output_type": "execute_result",
          "data": {
            "text/plain": [
              "0.7239607017498086"
            ]
          },
          "metadata": {
            "tags": []
          },
          "execution_count": 24
        }
      ]
    },
    {
      "cell_type": "code",
      "metadata": {
        "id": "2LYoiG5Fqmhl",
        "colab_type": "code",
        "colab": {}
      },
      "source": [
        "from sklearn.model_selection import cross_val_score\n",
        "scores = cross_val_score(tree_reg, X_train, y_train, scoring=\"neg_mean_squared_error\", cv=10)\n",
        "\n",
        "tree_rmse = np.sqrt(-scores)"
      ],
      "execution_count": 0,
      "outputs": []
    },
    {
      "cell_type": "code",
      "metadata": {
        "id": "9y1jrIJ2qmex",
        "colab_type": "code",
        "colab": {
          "base_uri": "https://localhost:8080/",
          "height": 51
        },
        "outputId": "f81686d1-72d9-4944-c06e-ffe66150fa9c"
      },
      "source": [
        "tree_rmse"
      ],
      "execution_count": 32,
      "outputs": [
        {
          "output_type": "execute_result",
          "data": {
            "text/plain": [
              "array([0.71204681, 0.75042202, 0.74326833, 0.72497184, 0.7265866 ,\n",
              "       0.73149309, 0.74036179, 0.72562857, 0.7637631 , 0.73997071])"
            ]
          },
          "metadata": {
            "tags": []
          },
          "execution_count": 32
        }
      ]
    },
    {
      "cell_type": "code",
      "metadata": {
        "id": "35CGHGsHpEqm",
        "colab_type": "code",
        "colab": {}
      },
      "source": [
        "param_grid = [{'n_estimators': [3, 10, 30], 'max_features': [2, 4, 6, 8]}, \n",
        "               {'bootstrap': [False], 'n_estimators': [3, 10], 'max_features': [2, 3, 4]}]"
      ],
      "execution_count": 0,
      "outputs": []
    },
    {
      "cell_type": "code",
      "metadata": {
        "id": "LMEBl0narpW4",
        "colab_type": "code",
        "colab": {}
      },
      "source": [
        "grid_search = GridSearchCV(rnd_frst, param_grid, cv=5, scoring=\"r2\")"
      ],
      "execution_count": 0,
      "outputs": []
    },
    {
      "cell_type": "code",
      "metadata": {
        "id": "2l8NySOSrzRY",
        "colab_type": "code",
        "colab": {
          "base_uri": "https://localhost:8080/",
          "height": 374
        },
        "outputId": "a09e16bc-1d8e-4a4b-e24c-c42d98b55c3c"
      },
      "source": [
        "grid_search.fit(X_train, y_train)"
      ],
      "execution_count": 35,
      "outputs": [
        {
          "output_type": "execute_result",
          "data": {
            "text/plain": [
              "GridSearchCV(cv=5, error_score=nan,\n",
              "             estimator=RandomForestRegressor(bootstrap=True, ccp_alpha=0.0,\n",
              "                                             criterion='mse', max_depth=None,\n",
              "                                             max_features='auto',\n",
              "                                             max_leaf_nodes=None,\n",
              "                                             max_samples=None,\n",
              "                                             min_impurity_decrease=0.0,\n",
              "                                             min_impurity_split=None,\n",
              "                                             min_samples_leaf=1,\n",
              "                                             min_samples_split=2,\n",
              "                                             min_weight_fraction_leaf=0.0,\n",
              "                                             n_estimators=100, n_jobs=None,\n",
              "                                             oob_score=False, random_state=None,\n",
              "                                             verbose=0, warm_start=False),\n",
              "             iid='deprecated', n_jobs=None,\n",
              "             param_grid=[{'max_features': [2, 4, 6, 8],\n",
              "                          'n_estimators': [3, 10, 30]},\n",
              "                         {'bootstrap': [False], 'max_features': [2, 3, 4],\n",
              "                          'n_estimators': [3, 10]}],\n",
              "             pre_dispatch='2*n_jobs', refit=True, return_train_score=False,\n",
              "             scoring='r2', verbose=0)"
            ]
          },
          "metadata": {
            "tags": []
          },
          "execution_count": 35
        }
      ]
    },
    {
      "cell_type": "code",
      "metadata": {
        "id": "lMvhVUwtr9L1",
        "colab_type": "code",
        "colab": {
          "base_uri": "https://localhost:8080/",
          "height": 34
        },
        "outputId": "0ae08538-6ec5-4d11-fee1-bae3fb5e27f8"
      },
      "source": [
        "grid_search.best_params_"
      ],
      "execution_count": 36,
      "outputs": [
        {
          "output_type": "execute_result",
          "data": {
            "text/plain": [
              "{'max_features': 4, 'n_estimators': 30}"
            ]
          },
          "metadata": {
            "tags": []
          },
          "execution_count": 36
        }
      ]
    },
    {
      "cell_type": "code",
      "metadata": {
        "id": "7_qn1YjtsuUq",
        "colab_type": "code",
        "colab": {
          "base_uri": "https://localhost:8080/",
          "height": 1000
        },
        "outputId": "22d2a3ec-1197-4580-b0ad-1a73eb4072ff"
      },
      "source": [
        "grid_search.cv_results_"
      ],
      "execution_count": 37,
      "outputs": [
        {
          "output_type": "execute_result",
          "data": {
            "text/plain": [
              "{'mean_fit_time': array([0.08636279, 0.2830792 , 0.85203099, 0.1418364 , 0.49186192,\n",
              "        1.43434677, 0.20923948, 0.6820951 , 2.07653966, 0.27900229,\n",
              "        0.88510594, 2.62061906, 0.13969293, 0.43777823, 0.17637763,\n",
              "        0.61270375, 0.23535008, 0.77076879]),\n",
              " 'mean_score_time': array([0.00409336, 0.01193585, 0.03071952, 0.00405698, 0.0114562 ,\n",
              "        0.03089423, 0.00484939, 0.01189442, 0.03282857, 0.00476775,\n",
              "        0.01121626, 0.0307796 , 0.00484843, 0.01380925, 0.00469079,\n",
              "        0.01349907, 0.00526509, 0.01340828]),\n",
              " 'mean_test_score': array([0.71945995, 0.77757336, 0.79715911, 0.71392217, 0.77826379,\n",
              "        0.80060189, 0.71603227, 0.77777379, 0.79538874, 0.722441  ,\n",
              "        0.77656874, 0.7943879 , 0.72676545, 0.79492834, 0.74859823,\n",
              "        0.79204714, 0.72668149, 0.79226286]),\n",
              " 'param_bootstrap': masked_array(data=[--, --, --, --, --, --, --, --, --, --, --, --, False,\n",
              "                    False, False, False, False, False],\n",
              "              mask=[ True,  True,  True,  True,  True,  True,  True,  True,\n",
              "                     True,  True,  True,  True, False, False, False, False,\n",
              "                    False, False],\n",
              "        fill_value='?',\n",
              "             dtype=object),\n",
              " 'param_max_features': masked_array(data=[2, 2, 2, 4, 4, 4, 6, 6, 6, 8, 8, 8, 2, 2, 3, 3, 4, 4],\n",
              "              mask=[False, False, False, False, False, False, False, False,\n",
              "                    False, False, False, False, False, False, False, False,\n",
              "                    False, False],\n",
              "        fill_value='?',\n",
              "             dtype=object),\n",
              " 'param_n_estimators': masked_array(data=[3, 10, 30, 3, 10, 30, 3, 10, 30, 3, 10, 30, 3, 10, 3,\n",
              "                    10, 3, 10],\n",
              "              mask=[False, False, False, False, False, False, False, False,\n",
              "                    False, False, False, False, False, False, False, False,\n",
              "                    False, False],\n",
              "        fill_value='?',\n",
              "             dtype=object),\n",
              " 'params': [{'max_features': 2, 'n_estimators': 3},\n",
              "  {'max_features': 2, 'n_estimators': 10},\n",
              "  {'max_features': 2, 'n_estimators': 30},\n",
              "  {'max_features': 4, 'n_estimators': 3},\n",
              "  {'max_features': 4, 'n_estimators': 10},\n",
              "  {'max_features': 4, 'n_estimators': 30},\n",
              "  {'max_features': 6, 'n_estimators': 3},\n",
              "  {'max_features': 6, 'n_estimators': 10},\n",
              "  {'max_features': 6, 'n_estimators': 30},\n",
              "  {'max_features': 8, 'n_estimators': 3},\n",
              "  {'max_features': 8, 'n_estimators': 10},\n",
              "  {'max_features': 8, 'n_estimators': 30},\n",
              "  {'bootstrap': False, 'max_features': 2, 'n_estimators': 3},\n",
              "  {'bootstrap': False, 'max_features': 2, 'n_estimators': 10},\n",
              "  {'bootstrap': False, 'max_features': 3, 'n_estimators': 3},\n",
              "  {'bootstrap': False, 'max_features': 3, 'n_estimators': 10},\n",
              "  {'bootstrap': False, 'max_features': 4, 'n_estimators': 3},\n",
              "  {'bootstrap': False, 'max_features': 4, 'n_estimators': 10}],\n",
              " 'rank_test_score': array([16, 10,  2, 18,  8,  1, 17,  9,  3, 15, 11,  5, 13,  4, 12,  7, 14,\n",
              "         6], dtype=int32),\n",
              " 'split0_test_score': array([0.73282149, 0.77803072, 0.80285091, 0.72795943, 0.78824465,\n",
              "        0.80549552, 0.73304213, 0.78210792, 0.80419939, 0.71688779,\n",
              "        0.77997307, 0.79993259, 0.74951408, 0.79706107, 0.7520944 ,\n",
              "        0.79936556, 0.7187173 , 0.80790153]),\n",
              " 'split1_test_score': array([0.72712974, 0.78056882, 0.79651496, 0.72789024, 0.77261668,\n",
              "        0.79993773, 0.69998011, 0.77730254, 0.78803216, 0.73030431,\n",
              "        0.77661794, 0.78968447, 0.7036973 , 0.79623443, 0.75464392,\n",
              "        0.78428319, 0.75022491, 0.79510977]),\n",
              " 'split2_test_score': array([0.70403146, 0.77520596, 0.7918657 , 0.68989901, 0.76565728,\n",
              "        0.79195664, 0.70515276, 0.77116644, 0.79446778, 0.71568308,\n",
              "        0.76922493, 0.78901747, 0.70603806, 0.78581086, 0.74350375,\n",
              "        0.78900458, 0.7086583 , 0.78865707]),\n",
              " 'split3_test_score': array([0.71360853, 0.7772113 , 0.7972569 , 0.71838996, 0.78059425,\n",
              "        0.80524296, 0.7226504 , 0.78502148, 0.79453561, 0.72742814,\n",
              "        0.77959809, 0.80335781, 0.73111094, 0.79953711, 0.76137175,\n",
              "        0.79801127, 0.73039577, 0.79248398]),\n",
              " 'split4_test_score': array([0.71970851, 0.77685001, 0.79730705, 0.70547219, 0.78420609,\n",
              "        0.80037659, 0.71933596, 0.77327058, 0.79570874, 0.72190169,\n",
              "        0.77742967, 0.78994715, 0.74346684, 0.79599825, 0.73137733,\n",
              "        0.78957108, 0.72541116, 0.77716197]),\n",
              " 'std_fit_time': array([0.00350143, 0.00663872, 0.02937791, 0.00322327, 0.01887606,\n",
              "        0.04513888, 0.00894276, 0.01655427, 0.1232571 , 0.00369674,\n",
              "        0.03586656, 0.03912672, 0.00284548, 0.00859014, 0.00325645,\n",
              "        0.00841264, 0.00656685, 0.0102171 ]),\n",
              " 'std_score_time': array([0.00023646, 0.00068969, 0.0006439 , 0.00016267, 0.00099785,\n",
              "        0.00226628, 0.00021816, 0.00115831, 0.00218271, 0.0003428 ,\n",
              "        0.0005705 , 0.00165699, 0.00010649, 0.00113268, 0.00025225,\n",
              "        0.0005968 , 0.00012958, 0.0001779 ]),\n",
              " 'std_test_score': array([0.01009649, 0.00175732, 0.00348893, 0.01456453, 0.00813847,\n",
              "        0.00491364, 0.01200071, 0.00520522, 0.00516576, 0.00571842,\n",
              "        0.00388437, 0.00603136, 0.0188525 , 0.00472797, 0.01033876,\n",
              "        0.00574103, 0.01384172, 0.00993741])}"
            ]
          },
          "metadata": {
            "tags": []
          },
          "execution_count": 37
        }
      ]
    },
    {
      "cell_type": "code",
      "metadata": {
        "id": "VRMP5R1CtAVe",
        "colab_type": "code",
        "colab": {
          "base_uri": "https://localhost:8080/",
          "height": 323
        },
        "outputId": "9797dd1a-e151-49e8-bae1-b55a92d6f952"
      },
      "source": [
        "cvres = grid_search.cv_results_\n",
        "for mean_score, params in zip(cvres[\"mean_test_score\"], cvres[\"params\"]):\n",
        "    print(np.sqrt(mean_score), params)"
      ],
      "execution_count": 39,
      "outputs": [
        {
          "output_type": "stream",
          "text": [
            "0.8482098473649493 {'max_features': 2, 'n_estimators': 3}\n",
            "0.8818012037294121 {'max_features': 2, 'n_estimators': 10}\n",
            "0.8928376708853599 {'max_features': 2, 'n_estimators': 30}\n",
            "0.8449391489927538 {'max_features': 4, 'n_estimators': 3}\n",
            "0.8821926033165359 {'max_features': 4, 'n_estimators': 10}\n",
            "0.8947635947092659 {'max_features': 4, 'n_estimators': 30}\n",
            "0.8461869003455584 {'max_features': 6, 'n_estimators': 3}\n",
            "0.8819148444061705 {'max_features': 6, 'n_estimators': 10}\n",
            "0.8918456918792005 {'max_features': 6, 'n_estimators': 30}\n",
            "0.8499652943880118 {'max_features': 8, 'n_estimators': 3}\n",
            "0.881231377760168 {'max_features': 8, 'n_estimators': 10}\n",
            "0.8912844103033116 {'max_features': 8, 'n_estimators': 30}\n",
            "0.852505393433261 {'bootstrap': False, 'max_features': 2, 'n_estimators': 3}\n",
            "0.8915875409885883 {'bootstrap': False, 'max_features': 2, 'n_estimators': 10}\n",
            "0.8652157128876203 {'bootstrap': False, 'max_features': 3, 'n_estimators': 3}\n",
            "0.8899703014190471 {'bootstrap': False, 'max_features': 3, 'n_estimators': 10}\n",
            "0.8524561500752807 {'bootstrap': False, 'max_features': 4, 'n_estimators': 3}\n",
            "0.8900914920645823 {'bootstrap': False, 'max_features': 4, 'n_estimators': 10}\n"
          ],
          "name": "stdout"
        }
      ]
    },
    {
      "cell_type": "code",
      "metadata": {
        "id": "NarxTDTEtVog",
        "colab_type": "code",
        "colab": {}
      },
      "source": [
        ""
      ],
      "execution_count": 0,
      "outputs": []
    }
  ]
}